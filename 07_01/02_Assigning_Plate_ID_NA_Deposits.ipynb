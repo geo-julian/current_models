{
 "cells": [
  {
   "cell_type": "code",
   "execution_count": 27,
   "metadata": {},
   "outputs": [
    {
     "name": "stdout",
     "output_type": "stream",
     "text": [
      "done!\n"
     ]
    }
   ],
   "source": [
    "import pygplates\n",
    "import pandas as pd\n",
    "import numpy as np\n",
    "from parameters import parameters\n",
    "import Utils\n",
    "import math\n",
    "import csv\n",
    "\n",
    "\n",
    "positives = pd.read_csv('data/01_NA_Clennett_Positives.csv')\n",
    "negatives = pd.read_csv('data/01_NA_Clennett_Negatives.csv')\n",
    "\n",
    "point_features_positives = []\n",
    "for index,row in positives.iterrows():\n",
    "    point = pygplates.PointOnSphere(float(row[1]),float(row[2]))\n",
    "    point_feature = pygplates.Feature()\n",
    "    point_feature.set_geometry(point)\n",
    "    point_feature.set_geometry_import_time(int(row[3]))\n",
    "    point_features_positives.append(point_feature)\n",
    "\n",
    "point_features_negatives = []\n",
    "for index,row in negatives.iterrows():\n",
    "    point = pygplates.PointOnSphere(float(row[1]),float(row[2]))\n",
    "    point_feature = pygplates.Feature()\n",
    "    point_feature.set_geometry(point)\n",
    "    point_feature.set_geometry_import_time(int(row[3]))\n",
    "    point_features_negatives.append(point_feature)\n",
    "    \n",
    "static_polygons = pygplates.FeatureCollection(parameters['static_polygons_file'])\n",
    "rotation_model = pygplates.RotationModel(Utils.get_files(parameters['rotation_files']))\n",
    "\n",
    "partitioned_positives = pygplates.partition_into_plates(static_polygons, rotation_model, point_features_positives)\n",
    "partitioned_negatives = pygplates.partition_into_plates(static_polygons, rotation_model, point_features_negatives)\n",
    "\n",
    "features_positives = pygplates.FeatureCollection(partitioned_positives)\n",
    "features_negatives = pygplates.FeatureCollection(partitioned_negatives)\n",
    "\n",
    "\n",
    "one=[]\n",
    "two=[]\n",
    "id=1\n",
    "for feature in features_positives:\n",
    "    point = feature.get_geometry()\n",
    "    plate_id = feature.get_reconstruction_plate_id()\n",
    "    dep_age = feature.get_geometry_import_time() \n",
    "    (latitud, longitud) = point.to_lat_lon()\n",
    "    \n",
    "    two=[id, longitud, latitud, dep_age, plate_id]\n",
    "    one.append(two)\n",
    "    id=id+1\n",
    "\n",
    "\n",
    "with open('data/02_NA_Clennett_Positives_PlateID.csv', 'w') as csvfile:\n",
    "    csvwriter = csv.writer(csvfile)\n",
    "    csvwriter.writerows(one)\n",
    "\n",
    "three=[]\n",
    "four=[]\n",
    "id=1\n",
    "for feature in features_negatives:\n",
    "    point = feature.get_geometry()\n",
    "    plate_id = feature.get_reconstruction_plate_id()\n",
    "    dep_age = feature.get_geometry_import_time() \n",
    "    (latitud, longitud) = point.to_lat_lon()\n",
    "    \n",
    "    four=[id, longitud, latitud, dep_age, plate_id]\n",
    "    three.append(four)\n",
    "    id=id+1\n",
    "\n",
    "\n",
    "with open('data/02_NA_Clennett_Negatives_PlateID.csv', 'w') as csvfile:\n",
    "    csvwriter = csv.writer(csvfile)\n",
    "    csvwriter.writerows(three)\n",
    "    \n",
    "    \n",
    "print('done!')"
   ]
  },
  {
   "cell_type": "code",
   "execution_count": null,
   "metadata": {},
   "outputs": [],
   "source": []
  }
 ],
 "metadata": {
  "kernelspec": {
   "display_name": "Python 3",
   "language": "python",
   "name": "python3"
  },
  "language_info": {
   "codemirror_mode": {
    "name": "ipython",
    "version": 3
   },
   "file_extension": ".py",
   "mimetype": "text/x-python",
   "name": "python",
   "nbconvert_exporter": "python",
   "pygments_lexer": "ipython3",
   "version": "3.7.7"
  }
 },
 "nbformat": 4,
 "nbformat_minor": 4
}
