{
 "cells": [
  {
   "cell_type": "markdown",
   "metadata": {},
   "source": [
    "## Step 3: Coregistration\n",
    "\n",
    "In this step, we are going to connect the selected mineral deposits in Step 2 with the trench sample points we have generated in Step 1. The mineral deposits csv file contains only 5 columns -- index, longitude, latitude, age and plate id. These attributes are not enough for the machine learning analysis. In order to obtain features associated with the deposits, we need to connect these mineral deposits with the trench sample points. We call this process coregistration.\n",
    "\n",
    "The coregistration method is simple. For a given mineral deposit, the coregistration process will try to find the nearest trench point within a certain region. If found, the subduction convergence kinematics statistics of the trench point will be associated with the mineral deposit. The attributes retrieved from the trench sample points will be used as input data for machine learning models later.\n",
    "\n",
    "First, let's run the coregistration script and see what will happen. The coregistration script can be configurated via parameters.py, such as the input mineral deposits file, output file name and region of interest, etc.\n",
    "\n",
    "Relevant parameters in [parameters.py](parameters.py):\n",
    "\n",
    "* input_file\n",
    "* output_dir\n",
    "* regions\n",
    "* vector_files\n",
    "* grid_files\n"
   ]
  },
  {
   "cell_type": "code",
   "execution_count": 1,
   "metadata": {},
   "outputs": [
    {
     "name": "stdout",
     "output_type": "stream",
     "text": [
      "The file name of the mineral deposits:  ['02_NA_Clennett_Positives_PlateID.csv', '02_NA_Clennett_Negatives_1_PlateID.csv', 'deposit_candidates.csv']\n",
      "The output folder:  test-case-clennett/coreg_input/\n",
      "The region of interest(in degree):  [5, 10]\n",
      "The subduction convergence kinematics statistics file name template:  ['{conv_dir}subStats_{time:.2f}.csv']\n",
      "\n",
      "\n",
      "running coregistration...\n",
      "['test-case-clennett/coreg_input/02_NA_Clennett_Positives_PlateID.csv', 'test-case-clennett/coreg_input/02_NA_Clennett_Negatives_1_PlateID.csv', 'test-case-clennett/coreg_input/deposit_candidates.csv']\n",
      "processing test-case-clennett/coreg_input/02_NA_Clennett_Positives_PlateID.csv ***********************************\n",
      "querying {conv_dir}subStats_{time:.2f}.csv\n",
      "region of interest: 5\n",
      "the length of input data is: 272\n",
      "region of interest: 10\n",
      "the length of input data is: 82\n",
      "(272, 5)\n",
      "(272, 24)\n",
      "['index', 'lon', 'lat', 'age', 'plate_id', 'recon_lon', 'recon_lat', 'distance', 'sub_idx', 'trench_lon', 'trench_lat', 'conv_rate', 'conv_angle', 'trench_abs_rate', 'trench_abs_angle', 'arc_len', 'trench_norm', 'subducting_pid', 'trench_pid', 'dist_nearest_edge', 'dist_from_start', 'conv_ortho', 'conv_paral', 'trench_abs_ortho', 'trench_abs_paral', 'subducting_abs_rate', 'subducting_abs_angle', 'subducting_abs_ortho', 'subducting_abs_paral']\n",
      "(272, 28)\n",
      "processing test-case-clennett/coreg_input/02_NA_Clennett_Negatives_1_PlateID.csv ***********************************\n",
      "querying {conv_dir}subStats_{time:.2f}.csv\n",
      "region of interest: 5\n",
      "the length of input data is: 272\n",
      "region of interest: 10\n",
      "the length of input data is: 183\n",
      "(272, 5)\n",
      "(272, 24)\n",
      "['index', 'lon', 'lat', 'age', 'plate_id', 'recon_lon', 'recon_lat', 'distance', 'sub_idx', 'trench_lon', 'trench_lat', 'conv_rate', 'conv_angle', 'trench_abs_rate', 'trench_abs_angle', 'arc_len', 'trench_norm', 'subducting_pid', 'trench_pid', 'dist_nearest_edge', 'dist_from_start', 'conv_ortho', 'conv_paral', 'trench_abs_ortho', 'trench_abs_paral', 'subducting_abs_rate', 'subducting_abs_angle', 'subducting_abs_ortho', 'subducting_abs_paral']\n",
      "(272, 28)\n",
      "processing test-case-clennett/coreg_input/deposit_candidates.csv ***********************************\n",
      "querying {conv_dir}subStats_{time:.2f}.csv\n",
      "region of interest: 5\n",
      "the length of input data is: 20559\n",
      "region of interest: 10\n",
      "the length of input data is: 16896\n",
      "(20559, 5)\n",
      "(20559, 24)\n",
      "['index', 'lon', 'lat', 'age', 'plate_id', 'recon_lon', 'recon_lat', 'distance', 'sub_idx', 'trench_lon', 'trench_lat', 'conv_rate', 'conv_angle', 'trench_abs_rate', 'trench_abs_angle', 'arc_len', 'trench_norm', 'subducting_pid', 'trench_pid', 'dist_nearest_edge', 'dist_from_start', 'conv_ortho', 'conv_paral', 'trench_abs_ortho', 'trench_abs_paral', 'subducting_abs_rate', 'subducting_abs_angle', 'subducting_abs_ortho', 'subducting_abs_paral']\n",
      "(20559, 28)\n",
      "The coregistration output data have been saved in folder test-case-clennett/coreg_output/ successfully!\n",
      "Time taken: 126.37864327430725  seconds\n"
     ]
    }
   ],
   "source": [
    "from parameters_n1 import parameters\n",
    "import Utils_c1 as Utils\n",
    "\n",
    "#let's print out some of the parameters\n",
    "#you can change the 'input_file' in parameters.py to use different mineral deposits. \n",
    "#Remember the files we have created in step 2?\n",
    "print('The file name of the mineral deposits: ', parameters['coreg_input_files'])\n",
    "print('The output folder: ', Utils.get_coreg_input_dir())\n",
    "print('The region of interest(in degree): ', parameters['regions'])\n",
    "print('The subduction convergence kinematics statistics file name template: ', parameters['vector_files'])\n",
    "print('\\n')\n",
    "\n",
    "import coregistration_c1 as coregistration\n",
    "#run the coregistration script\n",
    "coregistration.run()\n",
    "#some files should have been created at this point\n",
    "#let's move to the next cell and check the results"
   ]
  },
  {
   "cell_type": "code",
   "execution_count": 2,
   "metadata": {},
   "outputs": [
    {
     "name": "stdout",
     "output_type": "stream",
     "text": [
      "The file name of the mineral deposits:  ['02_NA_Clennett_Positives_PlateID.csv', '02_NA_Clennett_Negatives_2_PlateID.csv', 'deposit_candidates.csv']\n",
      "The output folder:  test-case-clennett/coreg_input/\n",
      "The region of interest(in degree):  [5, 10]\n",
      "The subduction convergence kinematics statistics file name template:  ['{conv_dir}subStats_{time:.2f}.csv']\n",
      "\n",
      "\n",
      "running coregistration...\n",
      "['test-case-clennett/coreg_input/02_NA_Clennett_Positives_PlateID.csv', 'test-case-clennett/coreg_input/02_NA_Clennett_Negatives_2_PlateID.csv', 'test-case-clennett/coreg_input/deposit_candidates.csv']\n",
      "processing test-case-clennett/coreg_input/02_NA_Clennett_Positives_PlateID.csv ***********************************\n",
      "querying {conv_dir}subStats_{time:.2f}.csv\n",
      "region of interest: 5\n",
      "the length of input data is: 272\n",
      "region of interest: 10\n",
      "the length of input data is: 82\n",
      "(272, 5)\n",
      "(272, 24)\n",
      "['index', 'lon', 'lat', 'age', 'plate_id', 'recon_lon', 'recon_lat', 'distance', 'sub_idx', 'trench_lon', 'trench_lat', 'conv_rate', 'conv_angle', 'trench_abs_rate', 'trench_abs_angle', 'arc_len', 'trench_norm', 'subducting_pid', 'trench_pid', 'dist_nearest_edge', 'dist_from_start', 'conv_ortho', 'conv_paral', 'trench_abs_ortho', 'trench_abs_paral', 'subducting_abs_rate', 'subducting_abs_angle', 'subducting_abs_ortho', 'subducting_abs_paral']\n",
      "(272, 28)\n",
      "processing test-case-clennett/coreg_input/02_NA_Clennett_Negatives_2_PlateID.csv ***********************************\n",
      "querying {conv_dir}subStats_{time:.2f}.csv\n",
      "region of interest: 5\n",
      "the length of input data is: 272\n",
      "region of interest: 10\n",
      "the length of input data is: 190\n",
      "(272, 5)\n",
      "(272, 24)\n",
      "['index', 'lon', 'lat', 'age', 'plate_id', 'recon_lon', 'recon_lat', 'distance', 'sub_idx', 'trench_lon', 'trench_lat', 'conv_rate', 'conv_angle', 'trench_abs_rate', 'trench_abs_angle', 'arc_len', 'trench_norm', 'subducting_pid', 'trench_pid', 'dist_nearest_edge', 'dist_from_start', 'conv_ortho', 'conv_paral', 'trench_abs_ortho', 'trench_abs_paral', 'subducting_abs_rate', 'subducting_abs_angle', 'subducting_abs_ortho', 'subducting_abs_paral']\n",
      "(272, 28)\n",
      "processing test-case-clennett/coreg_input/deposit_candidates.csv ***********************************\n",
      "querying {conv_dir}subStats_{time:.2f}.csv\n",
      "region of interest: 5\n",
      "the length of input data is: 20559\n",
      "region of interest: 10\n",
      "the length of input data is: 16896\n",
      "(20559, 5)\n",
      "(20559, 24)\n",
      "['index', 'lon', 'lat', 'age', 'plate_id', 'recon_lon', 'recon_lat', 'distance', 'sub_idx', 'trench_lon', 'trench_lat', 'conv_rate', 'conv_angle', 'trench_abs_rate', 'trench_abs_angle', 'arc_len', 'trench_norm', 'subducting_pid', 'trench_pid', 'dist_nearest_edge', 'dist_from_start', 'conv_ortho', 'conv_paral', 'trench_abs_ortho', 'trench_abs_paral', 'subducting_abs_rate', 'subducting_abs_angle', 'subducting_abs_ortho', 'subducting_abs_paral']\n",
      "(20559, 28)\n",
      "The coregistration output data have been saved in folder test-case-clennett/coreg_output/ successfully!\n",
      "Time taken: 140.05653405189514  seconds\n"
     ]
    }
   ],
   "source": [
    "from parameters_n2 import parameters\n",
    "import Utils_c2 as Utils\n",
    "\n",
    "#let's print out some of the parameters\n",
    "#you can change the 'input_file' in parameters.py to use different mineral deposits. \n",
    "#Remember the files we have created in step 2?\n",
    "print('The file name of the mineral deposits: ', parameters['coreg_input_files'])\n",
    "print('The output folder: ', Utils.get_coreg_input_dir())\n",
    "print('The region of interest(in degree): ', parameters['regions'])\n",
    "print('The subduction convergence kinematics statistics file name template: ', parameters['vector_files'])\n",
    "print('\\n')\n",
    "\n",
    "import coregistration_c2 as coregistration\n",
    "#run the coregistration script\n",
    "coregistration.run()\n",
    "#some files should have been created at this point\n",
    "#let's move to the next cell and check the results"
   ]
  },
  {
   "cell_type": "code",
   "execution_count": null,
   "metadata": {},
   "outputs": [],
   "source": [
    "from parameters_n3 import parameters\n",
    "import Utils_c3 as Utils\n",
    "\n",
    "#let's print out some of the parameters\n",
    "#you can change the 'input_file' in parameters.py to use different mineral deposits. \n",
    "#Remember the files we have created in step 2?\n",
    "print('The file name of the mineral deposits: ', parameters['coreg_input_files'])\n",
    "print('The output folder: ', Utils.get_coreg_input_dir())\n",
    "print('The region of interest(in degree): ', parameters['regions'])\n",
    "print('The subduction convergence kinematics statistics file name template: ', parameters['vector_files'])\n",
    "print('\\n')\n",
    "\n",
    "import coregistration_c3 as coregistration\n",
    "#run the coregistration script\n",
    "coregistration.run()\n",
    "#some files should have been created at this point\n",
    "#let's move to the next cell and check the results"
   ]
  },
  {
   "cell_type": "code",
   "execution_count": null,
   "metadata": {},
   "outputs": [],
   "source": [
    "from parameters_n4 import parameters\n",
    "import Utils_c4 as Utils\n",
    "\n",
    "#let's print out some of the parameters\n",
    "#you can change the 'input_file' in parameters.py to use different mineral deposits. \n",
    "#Remember the files we have created in step 2?\n",
    "print('The file name of the mineral deposits: ', parameters['coreg_input_files'])\n",
    "print('The output folder: ', Utils.get_coreg_input_dir())\n",
    "print('The region of interest(in degree): ', parameters['regions'])\n",
    "print('The subduction convergence kinematics statistics file name template: ', parameters['vector_files'])\n",
    "print('\\n')\n",
    "\n",
    "import coregistration_c4 as coregistration\n",
    "#run the coregistration script\n",
    "coregistration.run()\n",
    "#some files should have been created at this point\n",
    "#let's move to the next cell and check the results"
   ]
  },
  {
   "cell_type": "code",
   "execution_count": null,
   "metadata": {},
   "outputs": [],
   "source": [
    "from parameters_n5 import parameters\n",
    "import Utils_c5 as Utils\n",
    "\n",
    "#let's print out some of the parameters\n",
    "#you can change the 'input_file' in parameters.py to use different mineral deposits. \n",
    "#Remember the files we have created in step 2?\n",
    "print('The file name of the mineral deposits: ', parameters['coreg_input_files'])\n",
    "print('The output folder: ', Utils.get_coreg_input_dir())\n",
    "print('The region of interest(in degree): ', parameters['regions'])\n",
    "print('The subduction convergence kinematics statistics file name template: ', parameters['vector_files'])\n",
    "print('\\n')\n",
    "\n",
    "import coregistration_c5 as coregistration\n",
    "#run the coregistration script\n",
    "coregistration.run()\n",
    "#some files should have been created at this point\n",
    "#let's move to the next cell and check the results"
   ]
  },
  {
   "cell_type": "code",
   "execution_count": null,
   "metadata": {
    "scrolled": true
   },
   "outputs": [],
   "source": [
    "import pandas as pd\n",
    "import Utils\n",
    "\n",
    "#read in the coregistration output file\n",
    "data = pd.read_csv(Utils.get_coreg_output_dir() + \"positive_deposits_c1.csv\") \n",
    "display(data.head())#let's print the first 5 rows\n",
    "\n",
    "#print(data.columns)\n",
    "#print('\\nThe meaning of the columns: \\n')\n",
    "Utils.print_columns()\n",
    "\n",
    "input_data = pd.read_csv(Utils.get_coreg_input_dir() + \"02_NA_Clennett_Positives_PlateID.csv\")\n",
    "display(input_data)\n",
    "\n",
    "#the input data and output data has the same length\n",
    "print('The shape of the output data: ', data.shape)\n",
    "print('The shape of the input data: ',input_data.shape)"
   ]
  },
  {
   "cell_type": "markdown",
   "metadata": {},
   "source": [
    "We can see in above code cell that the input data and output data has the same length. It means, for each input mineral deposit, there is one corresponding data row in the output file. \n",
    "\n",
    "The coregistration program takes the mineral deposit coordinates and uses age and plate id to reconstruct the deposits back in time. And then the program searches the nearby subduction trench, if found, copy the subduction convergence kinematics statistics."
   ]
  }
 ],
 "metadata": {
  "jupytext": {
   "formats": "ipynb,py:light"
  },
  "kernelspec": {
   "display_name": "Python 3",
   "language": "python",
   "name": "python3"
  },
  "language_info": {
   "codemirror_mode": {
    "name": "ipython",
    "version": 3
   },
   "file_extension": ".py",
   "mimetype": "text/x-python",
   "name": "python",
   "nbconvert_exporter": "python",
   "pygments_lexer": "ipython3",
   "version": "3.7.7"
  }
 },
 "nbformat": 4,
 "nbformat_minor": 4
}
